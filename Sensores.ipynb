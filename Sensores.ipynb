{
 "cells": [
  {
   "cell_type": "markdown",
   "metadata": {},
   "source": [
    "# <b><span style='color:#38c9ff;font-size:150%'>Sensorización y Machine Learning</span><br>Por: Ruben Durango  </b>\n",
    "---\n",
    "## 📃| **Introducción**\n",
    "Pendiente\n",
    "\n",
    "## 🔢| **Objetivos**\n",
    "\n",
    "\n",
    "\n",
    "## <b><span style='color:#38c9ff'>0</span> | Inicializacion del Notebook</b>"
   ]
  },
  {
   "cell_type": "code",
   "execution_count": 2,
   "metadata": {},
   "outputs": [],
   "source": [
    "# Inicializacion del Notebook\n",
    "\n",
    "import numpy as np # Libreria para trabajar con matrices\n",
    "import pandas as pd # Libreria para trabajar con dataframes\n",
    "import scipy.stats # Libreria para trabajar con estadisticas\n",
    "\n",
    "import matplotlib.pyplot as plt # Libreria para trabajar con graficas\n",
    "from matplotlib.ticker import # Libreria para trabajar con graficas\n",
    "from cycler import cycler # Libreria para trabajar con graficas\n",
    "from IPython.display import display # Libreria para presentar informacion\n",
    "\n",
    "# Librerias para modelado\n",
    "from sklearn.pipeline import make_pipeline\n",
    "from sklearn.decomposition import PCA\n",
    "from sklearn.model_selection import GroupKFold, cross_val_score\n",
    "from sklearn.ensemble import HistGradientBoostingRegressor, HistGradientBoostingClassifier\n",
    "from sklearn.feature_selection import SequentialFeatureSelector\n",
    "from sklearn.metrics import roc_auc_score, roc_curve\n",
    "from xgboost import XGBClassifier\n",
    "\n",
    "# Valores base para matplotlib\n",
    "plt.style.use(\"seaborn-whitegrid\")\n",
    "plt.rc(\"figure\", autolayout=True, figsize=(11, 5))\n",
    "plt.rc(\n",
    "    \"axes\",\n",
    "    labelweight=\"bold\",\n",
    "    labelsize=\"large\",\n",
    "    titleweight=\"bold\",\n",
    "    titlesize=14,\n",
    "    titlepad=10,\n",
    "    facecolor = '#f0f3f4',\n",
    ")\n",
    "plot_params = dict(\n",
    "    color=\"0.75\",\n",
    "    style=\".-\",\n",
    "    markeredgecolor=\"0.25\",\n",
    "    markerfacecolor=\"0.25\",\n",
    "    legend=False,\n",
    ")\n",
    "\n",
    "%config InlineBackend.figure_format = 'retina'"
   ]
  },
  {
   "cell_type": "markdown",
   "metadata": {},
   "source": [
    "# <div style=\"color:white;display:fill;border-radius:5px;background-color:#38c9ff;letter-spacing:0.5px;overflow:hidden\"><p style=\"padding:20px;color:#FFFFFF;overflow:hidden;margin:0;font-size:110%\"><b>1 |</b>  Data Overview</p></div>\n",
    "\n",
    "## <b><span style='color:#38c9ff'>1.1</span> | Main Goal</b>\n",
    "In this competition, you'll classify 60-second sequences of sensor data, indicating whether a subject was in either of two activity states for the duration of the sequence.\n",
    "\n",
    "## <b><span style='color:#38c9ff'>1.2</span> | Files and Field Descriptions</b>\n",
    "\n",
    "1. **train.csv** - the training set, comprising ~26,000 60-second recordings of thirteen biological sensors for almost one thousand experimental participants\n",
    "    - `sequence` - a unique id for each sequence\n",
    "    - `subject` - a unique id for the subject in the experiment\n",
    "    - `step` - time step of the recording, in one second intervals\n",
    "    - `sensor_00 - sensor_12` - the value for each of the thirteen sensors at that time step\n",
    "2. **train_labels.csv** - the class label for each sequence.\n",
    "    - `sequence` - the unique id for each sequence.\n",
    "    - `state` - the state associated to each sequence. This is the target which you are trying to predict.\n",
    "3. **test.csv** - the test set. For each of the ~12,000 sequences, you should predict a value for that sequence's state."
   ]
  },
  {
   "cell_type": "markdown",
   "metadata": {},
   "source": []
  }
 ],
 "metadata": {
  "interpreter": {
   "hash": "273bbe2531d36b59c386502752c53c3b19819e6571a4b6edcd7898c69e8adce3"
  },
  "kernelspec": {
   "display_name": "Python 3.9.12 ('R-LAB')",
   "language": "python",
   "name": "python3"
  },
  "language_info": {
   "codemirror_mode": {
    "name": "ipython",
    "version": 3
   },
   "file_extension": ".py",
   "mimetype": "text/x-python",
   "name": "python",
   "nbconvert_exporter": "python",
   "pygments_lexer": "ipython3",
   "version": "3.9.12"
  },
  "orig_nbformat": 4
 },
 "nbformat": 4,
 "nbformat_minor": 2
}
